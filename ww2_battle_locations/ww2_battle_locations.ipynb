{
 "cells": [
  {
   "cell_type": "code",
   "execution_count": null,
   "metadata": {},
   "outputs": [],
   "source": [
    "# Importing libraries\n",
    "import pandas as pd \n",
    "import numpy as np \n",
    "import folium\n",
    "\n",
    "# Geo Libraries\n",
    "from geopy.geocoders import ArcGIS\n",
    "nom = ArcGIS()\n",
    "\n",
    "# Reading in the WW2 Battle Locations and \n",
    "ww2_df =  pd.read_html('https://en.wikipedia.org/wiki/List_of_World_War_II_battles_involving_the_United_States')\n",
    "df = ww2_df[0]\n",
    "\n",
    "# Geocoding that column\n",
    "df['Location'] = df['Location'].apply(nom.geocode)\n",
    "\n",
    "# Creating Lat/Lon\n",
    "df['latitude'] = df['Location'].apply(lambda x: x.latitude if x != None else None)\n",
    "df['longitude'] = df['Location'].apply(lambda x: x.longitude if x != None else None)\n",
    "\n",
    "lat = list(df['latitude'])\n",
    "lon = list(df['longitude'])\n",
    "name = list(df['Name'])\n",
    "\n",
    "# Creating the Base Map\n",
    "map = folium.Map(location= [46.25, 4.75], zoom_start = 3, tiles = \"Stamen Terrain\")\n",
    "\n",
    "# Creating a feature group\n",
    "fvg = folium.FeatureGroup(name=\"Base Features\")\n",
    "\n",
    "# Adding point markers\n",
    "for lt, ln, nm in zip(lat, lon, name):                                     \n",
    "    # Pins as Markers\n",
    "    fvg.add_child(folium.Marker(location= [lt, ln], popup = str(nm)))\n",
    "\n",
    "map.add_child(fvg)\n",
    "\n",
    "# Layer Control\n",
    "map.add_child(folium.LayerControl())\n",
    "\n",
    "# Saving\n",
    "map.save('WW2_US_Battles_v2.html')"
   ]
  },
  {
   "cell_type": "code",
   "execution_count": null,
   "metadata": {},
   "outputs": [],
   "source": []
  }
 ],
 "metadata": {
  "kernelspec": {
   "display_name": "Python 3",
   "language": "python",
   "name": "python3"
  },
  "language_info": {
   "codemirror_mode": {
    "name": "ipython",
    "version": 3
   },
   "file_extension": ".py",
   "mimetype": "text/x-python",
   "name": "python",
   "nbconvert_exporter": "python",
   "pygments_lexer": "ipython3",
   "version": "3.8.3"
  }
 },
 "nbformat": 4,
 "nbformat_minor": 4
}
