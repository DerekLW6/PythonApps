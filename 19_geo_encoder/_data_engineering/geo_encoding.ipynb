{
 "cells": [
  {
   "cell_type": "code",
   "execution_count": 1,
   "metadata": {},
   "outputs": [],
   "source": [
    "import numpy as np\n",
    "import pandas as pd\n",
    "\n",
    "from geopy.geocoders import ArcGIS\n",
    "nom = ArcGIS()"
   ]
  },
  {
   "cell_type": "code",
   "execution_count": 5,
   "metadata": {},
   "outputs": [
    {
     "data": {
      "text/html": [
       "<div>\n",
       "<style scoped>\n",
       "    .dataframe tbody tr th:only-of-type {\n",
       "        vertical-align: middle;\n",
       "    }\n",
       "\n",
       "    .dataframe tbody tr th {\n",
       "        vertical-align: top;\n",
       "    }\n",
       "\n",
       "    .dataframe thead th {\n",
       "        text-align: right;\n",
       "    }\n",
       "</style>\n",
       "<table border=\"1\" class=\"dataframe\">\n",
       "  <thead>\n",
       "    <tr style=\"text-align: right;\">\n",
       "      <th></th>\n",
       "      <th>Unnamed: 0</th>\n",
       "      <th>address</th>\n",
       "      <th>city</th>\n",
       "      <th>state</th>\n",
       "      <th>postal_code</th>\n",
       "      <th>division</th>\n",
       "      <th>type</th>\n",
       "      <th>facility_id</th>\n",
       "      <th>address_correct</th>\n",
       "    </tr>\n",
       "  </thead>\n",
       "  <tbody>\n",
       "    <tr>\n",
       "      <th>0</th>\n",
       "      <td>0</td>\n",
       "      <td>150 South Huntington Avenue</td>\n",
       "      <td>Jamaica Plain</td>\n",
       "      <td>MA</td>\n",
       "      <td>02130</td>\n",
       "      <td>Veterans Health Administration</td>\n",
       "      <td>VA Health Care System</td>\n",
       "      <td>523</td>\n",
       "      <td>150 South Huntington Avenue, Jamaica Plain, MA</td>\n",
       "    </tr>\n",
       "    <tr>\n",
       "      <th>1</th>\n",
       "      <td>1</td>\n",
       "      <td>950 Campbell Avenue</td>\n",
       "      <td>West Haven</td>\n",
       "      <td>CT</td>\n",
       "      <td>06516</td>\n",
       "      <td>Veterans Health Administration</td>\n",
       "      <td>VA Health Care System</td>\n",
       "      <td>689</td>\n",
       "      <td>950 Campbell Avenue, West Haven, CT</td>\n",
       "    </tr>\n",
       "    <tr>\n",
       "      <th>2</th>\n",
       "      <td>2</td>\n",
       "      <td>200 Springs Rd.</td>\n",
       "      <td>Bedford</td>\n",
       "      <td>MA</td>\n",
       "      <td>01730</td>\n",
       "      <td>Veterans Health Administration</td>\n",
       "      <td>VA Medical Center</td>\n",
       "      <td>518</td>\n",
       "      <td>200 Springs Rd., Bedford, MA</td>\n",
       "    </tr>\n",
       "    <tr>\n",
       "      <th>3</th>\n",
       "      <td>3</td>\n",
       "      <td>718 Smyth Road</td>\n",
       "      <td>Manchester</td>\n",
       "      <td>NH</td>\n",
       "      <td>03104</td>\n",
       "      <td>Veterans Health Administration</td>\n",
       "      <td>VA Medical Center</td>\n",
       "      <td>608</td>\n",
       "      <td>718 Smyth Road, Manchester, NH</td>\n",
       "    </tr>\n",
       "    <tr>\n",
       "      <th>4</th>\n",
       "      <td>4</td>\n",
       "      <td>830 Chalkstone Avenue</td>\n",
       "      <td>Providence</td>\n",
       "      <td>RI</td>\n",
       "      <td>02908-4799</td>\n",
       "      <td>Veterans Health Administration</td>\n",
       "      <td>VA Medical Center</td>\n",
       "      <td>650</td>\n",
       "      <td>830 Chalkstone Avenue, Providence, RI</td>\n",
       "    </tr>\n",
       "  </tbody>\n",
       "</table>\n",
       "</div>"
      ],
      "text/plain": [
       "   Unnamed: 0                      address           city state postal_code  \\\n",
       "0           0  150 South Huntington Avenue  Jamaica Plain    MA       02130   \n",
       "1           1          950 Campbell Avenue     West Haven    CT       06516   \n",
       "2           2              200 Springs Rd.        Bedford    MA       01730   \n",
       "3           3               718 Smyth Road     Manchester    NH       03104   \n",
       "4           4        830 Chalkstone Avenue     Providence    RI  02908-4799   \n",
       "\n",
       "                         division                   type facility_id  \\\n",
       "0  Veterans Health Administration  VA Health Care System         523   \n",
       "1  Veterans Health Administration  VA Health Care System         689   \n",
       "2  Veterans Health Administration      VA Medical Center         518   \n",
       "3  Veterans Health Administration      VA Medical Center         608   \n",
       "4  Veterans Health Administration      VA Medical Center         650   \n",
       "\n",
       "                                  address_correct  \n",
       "0  150 South Huntington Avenue, Jamaica Plain, MA  \n",
       "1             950 Campbell Avenue, West Haven, CT  \n",
       "2                    200 Springs Rd., Bedford, MA  \n",
       "3                  718 Smyth Road, Manchester, NH  \n",
       "4           830 Chalkstone Avenue, Providence, RI  "
      ]
     },
     "execution_count": 5,
     "metadata": {},
     "output_type": "execute_result"
    }
   ],
   "source": [
    "df = pd.read_csv('veterans_hospitals.csv')\n",
    "#+ \",\" + df['postal_code']\n",
    "df['address_correct'] = df['address'] + \", \" + df['city'] + \", \" + df['state'] \n",
    "\n",
    "df.head()"
   ]
  },
  {
   "cell_type": "code",
   "execution_count": 8,
   "metadata": {},
   "outputs": [],
   "source": [
    "# df.shape\n",
    "df_slice = df.iloc[:100,]"
   ]
  },
  {
   "cell_type": "code",
   "execution_count": 9,
   "metadata": {},
   "outputs": [
    {
     "name": "stderr",
     "output_type": "stream",
     "text": [
      "C:\\ProgramData\\Anaconda3\\lib\\site-packages\\ipykernel_launcher.py:2: SettingWithCopyWarning: \n",
      "A value is trying to be set on a copy of a slice from a DataFrame.\n",
      "Try using .loc[row_indexer,col_indexer] = value instead\n",
      "\n",
      "See the caveats in the documentation: http://pandas.pydata.org/pandas-docs/stable/user_guide/indexing.html#returning-a-view-versus-a-copy\n",
      "  \n",
      "C:\\ProgramData\\Anaconda3\\lib\\site-packages\\ipykernel_launcher.py:4: SettingWithCopyWarning: \n",
      "A value is trying to be set on a copy of a slice from a DataFrame.\n",
      "Try using .loc[row_indexer,col_indexer] = value instead\n",
      "\n",
      "See the caveats in the documentation: http://pandas.pydata.org/pandas-docs/stable/user_guide/indexing.html#returning-a-view-versus-a-copy\n",
      "  after removing the cwd from sys.path.\n",
      "C:\\ProgramData\\Anaconda3\\lib\\site-packages\\ipykernel_launcher.py:5: SettingWithCopyWarning: \n",
      "A value is trying to be set on a copy of a slice from a DataFrame.\n",
      "Try using .loc[row_indexer,col_indexer] = value instead\n",
      "\n",
      "See the caveats in the documentation: http://pandas.pydata.org/pandas-docs/stable/user_guide/indexing.html#returning-a-view-versus-a-copy\n",
      "  \"\"\"\n"
     ]
    }
   ],
   "source": [
    "# Geoencoding\n",
    "df_slice['address_correct'] = df_slice['address_correct'].apply(nom.geocode)\n",
    "\n",
    "df_slice['latitude'] = df_slice['address_correct'].apply(lambda x: x.latitude if x != None else None)\n",
    "df_slice['longitude'] = df_slice['address_correct'].apply(lambda x: x.longitude if x != None else None)"
   ]
  },
  {
   "cell_type": "code",
   "execution_count": 10,
   "metadata": {},
   "outputs": [
    {
     "data": {
      "text/html": [
       "<div>\n",
       "<style scoped>\n",
       "    .dataframe tbody tr th:only-of-type {\n",
       "        vertical-align: middle;\n",
       "    }\n",
       "\n",
       "    .dataframe tbody tr th {\n",
       "        vertical-align: top;\n",
       "    }\n",
       "\n",
       "    .dataframe thead th {\n",
       "        text-align: right;\n",
       "    }\n",
       "</style>\n",
       "<table border=\"1\" class=\"dataframe\">\n",
       "  <thead>\n",
       "    <tr style=\"text-align: right;\">\n",
       "      <th></th>\n",
       "      <th>Unnamed: 0</th>\n",
       "      <th>address</th>\n",
       "      <th>city</th>\n",
       "      <th>state</th>\n",
       "      <th>postal_code</th>\n",
       "      <th>division</th>\n",
       "      <th>type</th>\n",
       "      <th>facility_id</th>\n",
       "      <th>address_correct</th>\n",
       "      <th>latitude</th>\n",
       "      <th>longitude</th>\n",
       "    </tr>\n",
       "  </thead>\n",
       "  <tbody>\n",
       "    <tr>\n",
       "      <th>0</th>\n",
       "      <td>0</td>\n",
       "      <td>150 South Huntington Avenue</td>\n",
       "      <td>Jamaica Plain</td>\n",
       "      <td>MA</td>\n",
       "      <td>02130</td>\n",
       "      <td>Veterans Health Administration</td>\n",
       "      <td>VA Health Care System</td>\n",
       "      <td>523</td>\n",
       "      <td>(150 S Huntington Ave, Jamaica Plain, Massachu...</td>\n",
       "      <td>42.327112</td>\n",
       "      <td>-71.111069</td>\n",
       "    </tr>\n",
       "    <tr>\n",
       "      <th>1</th>\n",
       "      <td>1</td>\n",
       "      <td>950 Campbell Avenue</td>\n",
       "      <td>West Haven</td>\n",
       "      <td>CT</td>\n",
       "      <td>06516</td>\n",
       "      <td>Veterans Health Administration</td>\n",
       "      <td>VA Health Care System</td>\n",
       "      <td>689</td>\n",
       "      <td>(950 Campbell Ave, West Haven, Connecticut, 06...</td>\n",
       "      <td>41.284325</td>\n",
       "      <td>-72.957301</td>\n",
       "    </tr>\n",
       "    <tr>\n",
       "      <th>2</th>\n",
       "      <td>2</td>\n",
       "      <td>200 Springs Rd.</td>\n",
       "      <td>Bedford</td>\n",
       "      <td>MA</td>\n",
       "      <td>01730</td>\n",
       "      <td>Veterans Health Administration</td>\n",
       "      <td>VA Medical Center</td>\n",
       "      <td>518</td>\n",
       "      <td>(200 Springs Rd, Bedford, Massachusetts, 01730...</td>\n",
       "      <td>42.503675</td>\n",
       "      <td>-71.272677</td>\n",
       "    </tr>\n",
       "    <tr>\n",
       "      <th>3</th>\n",
       "      <td>3</td>\n",
       "      <td>718 Smyth Road</td>\n",
       "      <td>Manchester</td>\n",
       "      <td>NH</td>\n",
       "      <td>03104</td>\n",
       "      <td>Veterans Health Administration</td>\n",
       "      <td>VA Medical Center</td>\n",
       "      <td>608</td>\n",
       "      <td>(718 Smyth Rd, Manchester, New Hampshire, 0310...</td>\n",
       "      <td>43.011393</td>\n",
       "      <td>-71.440034</td>\n",
       "    </tr>\n",
       "    <tr>\n",
       "      <th>4</th>\n",
       "      <td>4</td>\n",
       "      <td>830 Chalkstone Avenue</td>\n",
       "      <td>Providence</td>\n",
       "      <td>RI</td>\n",
       "      <td>02908-4799</td>\n",
       "      <td>Veterans Health Administration</td>\n",
       "      <td>VA Medical Center</td>\n",
       "      <td>650</td>\n",
       "      <td>(830 Chalkstone Ave, Providence, Rhode Island,...</td>\n",
       "      <td>41.831271</td>\n",
       "      <td>-71.431785</td>\n",
       "    </tr>\n",
       "  </tbody>\n",
       "</table>\n",
       "</div>"
      ],
      "text/plain": [
       "   Unnamed: 0                      address           city state postal_code  \\\n",
       "0           0  150 South Huntington Avenue  Jamaica Plain    MA       02130   \n",
       "1           1          950 Campbell Avenue     West Haven    CT       06516   \n",
       "2           2              200 Springs Rd.        Bedford    MA       01730   \n",
       "3           3               718 Smyth Road     Manchester    NH       03104   \n",
       "4           4        830 Chalkstone Avenue     Providence    RI  02908-4799   \n",
       "\n",
       "                         division                   type facility_id  \\\n",
       "0  Veterans Health Administration  VA Health Care System         523   \n",
       "1  Veterans Health Administration  VA Health Care System         689   \n",
       "2  Veterans Health Administration      VA Medical Center         518   \n",
       "3  Veterans Health Administration      VA Medical Center         608   \n",
       "4  Veterans Health Administration      VA Medical Center         650   \n",
       "\n",
       "                                     address_correct   latitude  longitude  \n",
       "0  (150 S Huntington Ave, Jamaica Plain, Massachu...  42.327112 -71.111069  \n",
       "1  (950 Campbell Ave, West Haven, Connecticut, 06...  41.284325 -72.957301  \n",
       "2  (200 Springs Rd, Bedford, Massachusetts, 01730...  42.503675 -71.272677  \n",
       "3  (718 Smyth Rd, Manchester, New Hampshire, 0310...  43.011393 -71.440034  \n",
       "4  (830 Chalkstone Ave, Providence, Rhode Island,...  41.831271 -71.431785  "
      ]
     },
     "execution_count": 10,
     "metadata": {},
     "output_type": "execute_result"
    }
   ],
   "source": [
    "df_slice.head()"
   ]
  },
  {
   "cell_type": "code",
   "execution_count": 11,
   "metadata": {},
   "outputs": [
    {
     "data": {
      "text/plain": [
       "Index(['Unnamed: 0', 'address', 'city', 'state', 'postal_code', 'division',\n",
       "       'type', 'facility_id', 'address_correct', 'latitude', 'longitude'],\n",
       "      dtype='object')"
      ]
     },
     "execution_count": 11,
     "metadata": {},
     "output_type": "execute_result"
    }
   ],
   "source": [
    "df_slice.columns"
   ]
  },
  {
   "cell_type": "code",
   "execution_count": 17,
   "metadata": {},
   "outputs": [],
   "source": [
    "l=list(df_slice)"
   ]
  },
  {
   "cell_type": "code",
   "execution_count": 19,
   "metadata": {},
   "outputs": [
    {
     "data": {
      "text/plain": [
       "['Unnamed: 0',\n",
       " 'address',\n",
       " 'city',\n",
       " 'state',\n",
       " 'postal_code',\n",
       " 'division',\n",
       " 'type',\n",
       " 'facility_id',\n",
       " 'address_correct',\n",
       " 'latitude',\n",
       " 'longitude']"
      ]
     },
     "execution_count": 19,
     "metadata": {},
     "output_type": "execute_result"
    }
   ],
   "source": [
    "l"
   ]
  },
  {
   "cell_type": "code",
   "execution_count": 26,
   "metadata": {},
   "outputs": [],
   "source": [
    "df_slice.to_csv('test.csv')"
   ]
  },
  {
   "cell_type": "code",
   "execution_count": 24,
   "metadata": {},
   "outputs": [
    {
     "name": "stdout",
     "output_type": "stream",
     "text": [
      "BAM!\n"
     ]
    }
   ],
   "source": [
    "if 'Address' in l:\n",
    "    print(\"Yeah boi\")\n",
    "elif 'address' in l:\n",
    "    print(\"BAM!\")\n",
    "else:\n",
    "    print('No Address column found')"
   ]
  },
  {
   "cell_type": "code",
   "execution_count": null,
   "metadata": {},
   "outputs": [],
   "source": []
  },
  {
   "cell_type": "code",
   "execution_count": null,
   "metadata": {},
   "outputs": [],
   "source": []
  },
  {
   "cell_type": "code",
   "execution_count": null,
   "metadata": {},
   "outputs": [],
   "source": []
  }
 ],
 "metadata": {
  "kernelspec": {
   "display_name": "Python 3",
   "language": "python",
   "name": "python3"
  },
  "language_info": {
   "codemirror_mode": {
    "name": "ipython",
    "version": 3
   },
   "file_extension": ".py",
   "mimetype": "text/x-python",
   "name": "python",
   "nbconvert_exporter": "python",
   "pygments_lexer": "ipython3",
   "version": "3.7.6"
  }
 },
 "nbformat": 4,
 "nbformat_minor": 4
}
