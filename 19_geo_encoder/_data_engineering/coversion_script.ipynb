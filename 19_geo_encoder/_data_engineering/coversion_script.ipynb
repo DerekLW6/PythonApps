{
 "cells": [
  {
   "cell_type": "code",
   "execution_count": 2,
   "metadata": {},
   "outputs": [],
   "source": [
    "import json \n",
    "import csv\n",
    "import pandas as pd"
   ]
  },
  {
   "cell_type": "code",
   "execution_count": 3,
   "metadata": {},
   "outputs": [
    {
     "name": "stdout",
     "output_type": "stream",
     "text": [
      "<class 'dict'>\n"
     ]
    }
   ],
   "source": [
    "with open('VAFacilityLocation.json') as json_file: \n",
    "    data = json.load(json_file) \n",
    "#     print(type(data))"
   ]
  },
  {
   "cell_type": "code",
   "execution_count": 7,
   "metadata": {},
   "outputs": [
    {
     "data": {
      "text/plain": [
       "dict_keys(['CreatedDate', 'Documentation', 'NumberOfEntries', 'URLSource', 'VAFacilityData'])"
      ]
     },
     "execution_count": 7,
     "metadata": {},
     "output_type": "execute_result"
    }
   ],
   "source": [
    "data.keys()"
   ]
  },
  {
   "cell_type": "code",
   "execution_count": 11,
   "metadata": {},
   "outputs": [
    {
     "data": {
      "text/plain": [
       "list"
      ]
     },
     "execution_count": 11,
     "metadata": {},
     "output_type": "execute_result"
    }
   ],
   "source": [
    "type(data['VAFacilityData'])"
   ]
  },
  {
   "cell_type": "code",
   "execution_count": 12,
   "metadata": {},
   "outputs": [
    {
     "data": {
      "text/plain": [
       "{'address': '718 Smyth Road',\n",
       " 'city': 'Manchester',\n",
       " 'division': 'Veterans Health Administration',\n",
       " 'facility_id': '608',\n",
       " 'fax': '603-626-6579',\n",
       " 'latitude': '43.0123',\n",
       " 'longitude': '-71.4408',\n",
       " 'name': 'Manchester VA Medical Center',\n",
       " 'phone': '603-624-4366 Or 800-892-8384',\n",
       " 'postal_code': '03104',\n",
       " 'region': 'VISN 1: VA New England Healthcare System',\n",
       " 'state': 'NH',\n",
       " 'type': 'VA Medical Center',\n",
       " 'url': 'http://www.manchester.va.gov'}"
      ]
     },
     "execution_count": 12,
     "metadata": {},
     "output_type": "execute_result"
    }
   ],
   "source": [
    "data['VAFacilityData'][3]"
   ]
  },
  {
   "cell_type": "code",
   "execution_count": 14,
   "metadata": {},
   "outputs": [],
   "source": [
    "df = pd.DataFrame(data['VAFacilityData'])"
   ]
  },
  {
   "cell_type": "code",
   "execution_count": 15,
   "metadata": {},
   "outputs": [
    {
     "data": {
      "text/html": [
       "<div>\n",
       "<style scoped>\n",
       "    .dataframe tbody tr th:only-of-type {\n",
       "        vertical-align: middle;\n",
       "    }\n",
       "\n",
       "    .dataframe tbody tr th {\n",
       "        vertical-align: top;\n",
       "    }\n",
       "\n",
       "    .dataframe thead th {\n",
       "        text-align: right;\n",
       "    }\n",
       "</style>\n",
       "<table border=\"1\" class=\"dataframe\">\n",
       "  <thead>\n",
       "    <tr style=\"text-align: right;\">\n",
       "      <th></th>\n",
       "      <th>address</th>\n",
       "      <th>city</th>\n",
       "      <th>division</th>\n",
       "      <th>facility_id</th>\n",
       "      <th>fax</th>\n",
       "      <th>latitude</th>\n",
       "      <th>longitude</th>\n",
       "      <th>name</th>\n",
       "      <th>phone</th>\n",
       "      <th>postal_code</th>\n",
       "      <th>region</th>\n",
       "      <th>state</th>\n",
       "      <th>type</th>\n",
       "      <th>url</th>\n",
       "    </tr>\n",
       "  </thead>\n",
       "  <tbody>\n",
       "    <tr>\n",
       "      <th>0</th>\n",
       "      <td>150 South Huntington Avenue</td>\n",
       "      <td>Jamaica Plain</td>\n",
       "      <td>Veterans Health Administration</td>\n",
       "      <td>523</td>\n",
       "      <td>None</td>\n",
       "      <td>42.326988</td>\n",
       "      <td>-71.110632</td>\n",
       "      <td>VA Boston Healthcare System</td>\n",
       "      <td>617-232-9500</td>\n",
       "      <td>02130</td>\n",
       "      <td>VISN 1: VA New England Healthcare System</td>\n",
       "      <td>MA</td>\n",
       "      <td>VA Health Care System</td>\n",
       "      <td>http://www.boston.va.gov</td>\n",
       "    </tr>\n",
       "    <tr>\n",
       "      <th>1</th>\n",
       "      <td>950 Campbell Avenue</td>\n",
       "      <td>West Haven</td>\n",
       "      <td>Veterans Health Administration</td>\n",
       "      <td>689</td>\n",
       "      <td>None</td>\n",
       "      <td>41.283665</td>\n",
       "      <td>-72.960451</td>\n",
       "      <td>VA Connecticut Healthcare System</td>\n",
       "      <td>203-932-5711</td>\n",
       "      <td>06516</td>\n",
       "      <td>VISN 1: VA New England Healthcare System</td>\n",
       "      <td>CT</td>\n",
       "      <td>VA Health Care System</td>\n",
       "      <td>None</td>\n",
       "    </tr>\n",
       "    <tr>\n",
       "      <th>2</th>\n",
       "      <td>200 Springs Rd.</td>\n",
       "      <td>Bedford</td>\n",
       "      <td>Veterans Health Administration</td>\n",
       "      <td>518</td>\n",
       "      <td>781-687-2101</td>\n",
       "      <td>42.502902</td>\n",
       "      <td>-71.272671</td>\n",
       "      <td>Edith Nourse Rogers Memorial Veterans Hospital...</td>\n",
       "      <td>781-687-2000</td>\n",
       "      <td>01730</td>\n",
       "      <td>VISN 1: VA New England Healthcare System</td>\n",
       "      <td>MA</td>\n",
       "      <td>VA Medical Center</td>\n",
       "      <td>http://www.bedford.va.gov/</td>\n",
       "    </tr>\n",
       "    <tr>\n",
       "      <th>3</th>\n",
       "      <td>718 Smyth Road</td>\n",
       "      <td>Manchester</td>\n",
       "      <td>Veterans Health Administration</td>\n",
       "      <td>608</td>\n",
       "      <td>603-626-6579</td>\n",
       "      <td>43.0123</td>\n",
       "      <td>-71.4408</td>\n",
       "      <td>Manchester VA Medical Center</td>\n",
       "      <td>603-624-4366 Or 800-892-8384</td>\n",
       "      <td>03104</td>\n",
       "      <td>VISN 1: VA New England Healthcare System</td>\n",
       "      <td>NH</td>\n",
       "      <td>VA Medical Center</td>\n",
       "      <td>http://www.manchester.va.gov</td>\n",
       "    </tr>\n",
       "    <tr>\n",
       "      <th>4</th>\n",
       "      <td>830 Chalkstone Avenue</td>\n",
       "      <td>Providence</td>\n",
       "      <td>Veterans Health Administration</td>\n",
       "      <td>650</td>\n",
       "      <td>401-457-3370</td>\n",
       "      <td>41.833799</td>\n",
       "      <td>-71.434755</td>\n",
       "      <td>Providence VA Medical Center</td>\n",
       "      <td>401-273-7100 Or 866-363-4486</td>\n",
       "      <td>02908-4799</td>\n",
       "      <td>VISN 1: VA New England Healthcare System</td>\n",
       "      <td>RI</td>\n",
       "      <td>VA Medical Center</td>\n",
       "      <td>http://www.providence.va.gov/</td>\n",
       "    </tr>\n",
       "  </tbody>\n",
       "</table>\n",
       "</div>"
      ],
      "text/plain": [
       "                       address           city                        division  \\\n",
       "0  150 South Huntington Avenue  Jamaica Plain  Veterans Health Administration   \n",
       "1          950 Campbell Avenue     West Haven  Veterans Health Administration   \n",
       "2              200 Springs Rd.        Bedford  Veterans Health Administration   \n",
       "3               718 Smyth Road     Manchester  Veterans Health Administration   \n",
       "4        830 Chalkstone Avenue     Providence  Veterans Health Administration   \n",
       "\n",
       "  facility_id           fax   latitude   longitude  \\\n",
       "0         523          None  42.326988  -71.110632   \n",
       "1         689          None  41.283665  -72.960451   \n",
       "2         518  781-687-2101  42.502902  -71.272671   \n",
       "3         608  603-626-6579    43.0123    -71.4408   \n",
       "4         650  401-457-3370  41.833799  -71.434755   \n",
       "\n",
       "                                                name  \\\n",
       "0                        VA Boston Healthcare System   \n",
       "1                   VA Connecticut Healthcare System   \n",
       "2  Edith Nourse Rogers Memorial Veterans Hospital...   \n",
       "3                       Manchester VA Medical Center   \n",
       "4                       Providence VA Medical Center   \n",
       "\n",
       "                          phone postal_code  \\\n",
       "0                  617-232-9500       02130   \n",
       "1                  203-932-5711       06516   \n",
       "2                  781-687-2000       01730   \n",
       "3  603-624-4366 Or 800-892-8384       03104   \n",
       "4  401-273-7100 Or 866-363-4486  02908-4799   \n",
       "\n",
       "                                     region state                   type  \\\n",
       "0  VISN 1: VA New England Healthcare System    MA  VA Health Care System   \n",
       "1  VISN 1: VA New England Healthcare System    CT  VA Health Care System   \n",
       "2  VISN 1: VA New England Healthcare System    MA      VA Medical Center   \n",
       "3  VISN 1: VA New England Healthcare System    NH      VA Medical Center   \n",
       "4  VISN 1: VA New England Healthcare System    RI      VA Medical Center   \n",
       "\n",
       "                             url  \n",
       "0       http://www.boston.va.gov  \n",
       "1                           None  \n",
       "2     http://www.bedford.va.gov/  \n",
       "3   http://www.manchester.va.gov  \n",
       "4  http://www.providence.va.gov/  "
      ]
     },
     "execution_count": 15,
     "metadata": {},
     "output_type": "execute_result"
    }
   ],
   "source": [
    "df.head()"
   ]
  },
  {
   "cell_type": "code",
   "execution_count": 16,
   "metadata": {},
   "outputs": [
    {
     "data": {
      "text/plain": [
       "Index(['address', 'city', 'division', 'facility_id', 'fax', 'latitude',\n",
       "       'longitude', 'name', 'phone', 'postal_code', 'region', 'state', 'type',\n",
       "       'url'],\n",
       "      dtype='object')"
      ]
     },
     "execution_count": 16,
     "metadata": {},
     "output_type": "execute_result"
    }
   ],
   "source": [
    "df.columns"
   ]
  },
  {
   "cell_type": "code",
   "execution_count": 17,
   "metadata": {},
   "outputs": [],
   "source": [
    "df_export = df[['address', 'city', 'state', 'postal_code', 'division', 'type', 'facility_id']]"
   ]
  },
  {
   "cell_type": "code",
   "execution_count": 18,
   "metadata": {},
   "outputs": [
    {
     "data": {
      "text/html": [
       "<div>\n",
       "<style scoped>\n",
       "    .dataframe tbody tr th:only-of-type {\n",
       "        vertical-align: middle;\n",
       "    }\n",
       "\n",
       "    .dataframe tbody tr th {\n",
       "        vertical-align: top;\n",
       "    }\n",
       "\n",
       "    .dataframe thead th {\n",
       "        text-align: right;\n",
       "    }\n",
       "</style>\n",
       "<table border=\"1\" class=\"dataframe\">\n",
       "  <thead>\n",
       "    <tr style=\"text-align: right;\">\n",
       "      <th></th>\n",
       "      <th>address</th>\n",
       "      <th>city</th>\n",
       "      <th>state</th>\n",
       "      <th>postal_code</th>\n",
       "      <th>division</th>\n",
       "      <th>type</th>\n",
       "      <th>facility_id</th>\n",
       "    </tr>\n",
       "  </thead>\n",
       "  <tbody>\n",
       "    <tr>\n",
       "      <th>0</th>\n",
       "      <td>150 South Huntington Avenue</td>\n",
       "      <td>Jamaica Plain</td>\n",
       "      <td>MA</td>\n",
       "      <td>02130</td>\n",
       "      <td>Veterans Health Administration</td>\n",
       "      <td>VA Health Care System</td>\n",
       "      <td>523</td>\n",
       "    </tr>\n",
       "    <tr>\n",
       "      <th>1</th>\n",
       "      <td>950 Campbell Avenue</td>\n",
       "      <td>West Haven</td>\n",
       "      <td>CT</td>\n",
       "      <td>06516</td>\n",
       "      <td>Veterans Health Administration</td>\n",
       "      <td>VA Health Care System</td>\n",
       "      <td>689</td>\n",
       "    </tr>\n",
       "    <tr>\n",
       "      <th>2</th>\n",
       "      <td>200 Springs Rd.</td>\n",
       "      <td>Bedford</td>\n",
       "      <td>MA</td>\n",
       "      <td>01730</td>\n",
       "      <td>Veterans Health Administration</td>\n",
       "      <td>VA Medical Center</td>\n",
       "      <td>518</td>\n",
       "    </tr>\n",
       "    <tr>\n",
       "      <th>3</th>\n",
       "      <td>718 Smyth Road</td>\n",
       "      <td>Manchester</td>\n",
       "      <td>NH</td>\n",
       "      <td>03104</td>\n",
       "      <td>Veterans Health Administration</td>\n",
       "      <td>VA Medical Center</td>\n",
       "      <td>608</td>\n",
       "    </tr>\n",
       "    <tr>\n",
       "      <th>4</th>\n",
       "      <td>830 Chalkstone Avenue</td>\n",
       "      <td>Providence</td>\n",
       "      <td>RI</td>\n",
       "      <td>02908-4799</td>\n",
       "      <td>Veterans Health Administration</td>\n",
       "      <td>VA Medical Center</td>\n",
       "      <td>650</td>\n",
       "    </tr>\n",
       "  </tbody>\n",
       "</table>\n",
       "</div>"
      ],
      "text/plain": [
       "                       address           city state postal_code  \\\n",
       "0  150 South Huntington Avenue  Jamaica Plain    MA       02130   \n",
       "1          950 Campbell Avenue     West Haven    CT       06516   \n",
       "2              200 Springs Rd.        Bedford    MA       01730   \n",
       "3               718 Smyth Road     Manchester    NH       03104   \n",
       "4        830 Chalkstone Avenue     Providence    RI  02908-4799   \n",
       "\n",
       "                         division                   type facility_id  \n",
       "0  Veterans Health Administration  VA Health Care System         523  \n",
       "1  Veterans Health Administration  VA Health Care System         689  \n",
       "2  Veterans Health Administration      VA Medical Center         518  \n",
       "3  Veterans Health Administration      VA Medical Center         608  \n",
       "4  Veterans Health Administration      VA Medical Center         650  "
      ]
     },
     "execution_count": 18,
     "metadata": {},
     "output_type": "execute_result"
    }
   ],
   "source": [
    "df_export.head()"
   ]
  },
  {
   "cell_type": "code",
   "execution_count": 19,
   "metadata": {},
   "outputs": [],
   "source": [
    "df_export.to_csv(\"veterans_hospitals.csv\")"
   ]
  },
  {
   "cell_type": "code",
   "execution_count": null,
   "metadata": {},
   "outputs": [],
   "source": []
  },
  {
   "cell_type": "code",
   "execution_count": null,
   "metadata": {},
   "outputs": [],
   "source": []
  }
 ],
 "metadata": {
  "kernelspec": {
   "display_name": "Python 3",
   "language": "python",
   "name": "python3"
  },
  "language_info": {
   "codemirror_mode": {
    "name": "ipython",
    "version": 3
   },
   "file_extension": ".py",
   "mimetype": "text/x-python",
   "name": "python",
   "nbconvert_exporter": "python",
   "pygments_lexer": "ipython3",
   "version": "3.7.6"
  }
 },
 "nbformat": 4,
 "nbformat_minor": 4
}
